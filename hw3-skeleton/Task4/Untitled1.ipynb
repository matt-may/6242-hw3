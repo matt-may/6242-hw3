{
 "cells": [
  {
   "cell_type": "code",
   "execution_count": 149,
   "metadata": {
    "collapsed": true
   },
   "outputs": [],
   "source": [
    "import pandas as pd\n",
    "import seaborn as sns\n",
    "import numpy as np\n",
    "from StringIO import StringIO"
   ]
  },
  {
   "cell_type": "code",
   "execution_count": 150,
   "metadata": {
    "collapsed": false
   },
   "outputs": [],
   "source": [
    "# Helper function for writing pandas data to a file\n",
    "def write_to_file(data, f):\n",
    "    output = StringIO()\n",
    "    data.to_csv(output, sep='\\t', header=False)\n",
    "    f.write(output.getvalue())\n",
    "    output.close()"
   ]
  },
  {
   "cell_type": "code",
   "execution_count": 151,
   "metadata": {
    "collapsed": false
   },
   "outputs": [],
   "source": [
    "##########\n",
    "# 4.a\n",
    "##########\n",
    "\n",
    "# Instructions: \n",
    "# Using pandas, load the data as dataframes and find the number \n",
    "# of unique movies and number of unique users in the dataset.\n",
    "\n",
    "# Open the output file.\n",
    "f = open('movies.txt', 'w')\n",
    "\n",
    "# Write a header line.\n",
    "f.write(\"---4.a---\\n\")\n",
    "\n",
    "# Load the data files.\n",
    "\n",
    "## Load users.\n",
    "user_headers = ['user id', 'age', 'gender', 'occupation', 'zip code']\n",
    "users = pd.read_csv('data/u.user', sep='|', names=user_headers)\n",
    "\n",
    "## Load movies.\n",
    "movie_headers = ['movie id', 'movie title']\n",
    "movies = pd.read_csv('data/u.item', sep='|', names=movie_headers, usecols=range(2))\n",
    "\n",
    "## Load movie ratings.\n",
    "data_headers = ['user id', 'movie id', 'rating', 'timestamp']\n",
    "data = pd.read_csv('data/u.data', sep='\\t', names=data_headers)\n",
    "\n",
    "# Write the number of unique movies (1682).\n",
    "# This can be done equivalently by len(movies.index).\n",
    "unique_movies = len(pd.unique(data['movie id']))\n",
    "f.write(str(unique_movies) + \"\\n\")\n",
    "\n",
    "# Write the number of unique users (943).\n",
    "# This can be done equivalently by len(users.index).\n",
    "unique_users = len(pd.unique(data['user id']))\n",
    "f.write(str(unique_users) + \"\\n\")"
   ]
  },
  {
   "cell_type": "code",
   "execution_count": 152,
   "metadata": {
    "collapsed": false
   },
   "outputs": [],
   "source": [
    "##########\n",
    "# 4.b\n",
    "##########\n",
    "\n",
    "# Instructions: \n",
    "# Using pandas, find the top 5 movies with the most number of \n",
    "# ratings. Sort the output from most ratings to least ratings.\n",
    "\n",
    "f.write(\"---4.b---\\n\")\n",
    "\n",
    "# Merge the data by common key.\n",
    "ratings_with_movies = pd.merge(movies, data)\n",
    "combined = pd.merge(ratings_with_movies, users)\n",
    "\n",
    "# Find the top 5 movies by number of ratings.\n",
    "top_5_by_rating = combined['movie title'].value_counts()[:5]\n",
    "\n",
    "# Write.\n",
    "write_to_file(top_5_by_rating, f)"
   ]
  },
  {
   "cell_type": "code",
   "execution_count": 153,
   "metadata": {
    "collapsed": false
   },
   "outputs": [],
   "source": [
    "##########\n",
    "# 4.c\n",
    "##########\n",
    "\n",
    "# Instructions:\n",
    "# Find the top 5 movies with the lowest average age of the\n",
    "# people that rated the movies. Consider only the movies that \n",
    "# have got at least 100 ratings.\n",
    "\n",
    "f.write(\"---4.c---\\n\")\n",
    "\n",
    "# Find the average age, and number of ratings per movie.\n",
    "with_average_age = combined.groupby('movie title').agg({'age': [np.mean], 'rating': [np.size]})\n",
    "\n",
    "# Exclude movies with < 100 ratings.\n",
    "with_100_or_more = with_average_age[with_average_age[('rating', 'size')] >= 100]\n",
    "\n",
    "# Sorted by age, and retrieve the movies with the 5 smallest average ages.\n",
    "sorted_by_age = with_100_or_more.sort_values(('age', 'mean'), ascending=True).head(5)\n",
    "\n",
    "# Write.\n",
    "write_to_file(sorted_by_age, f)"
   ]
  },
  {
   "cell_type": "code",
   "execution_count": 154,
   "metadata": {
    "collapsed": false
   },
   "outputs": [
    {
     "data": {
      "image/png": "[encoded data removed]",
      "text/plain": [
       "<matplotlib.figure.Figure at 0x111ac7f50>"
      ]
     },
     "metadata": {},
     "output_type": "display_data"
    }
   ],
   "source": [
    "##########\n",
    "# 4.d\n",
    "##########\n",
    "\n",
    "# Instructions:\n",
    "# Draw a scatterplot with marginal histograms to visualize \n",
    "# how the average rating varies with age. Save this plot as \n",
    "# scatterhist.png.\n",
    "\n",
    "import matplotlib.pyplot as plt\n",
    "\n",
    "f.write(\"---4.d---\\n\")\n",
    "\n",
    "# Group by age, and determine the mean rating.\n",
    "grouped_by_age = combined.groupby('age').agg({'rating': np.mean}) \n",
    "\n",
    "# Make the age index a column.\n",
    "grouped_by_age.reset_index(inplace=True) \n",
    "\n",
    "# Determine average rating by page\n",
    "sns.jointplot(x='age', y='rating', data=grouped_by_age, color='#968fad')\n",
    "sns.plt.show()"
   ]
  },
  {
   "cell_type": "code",
   "execution_count": 155,
   "metadata": {
    "collapsed": false
   },
   "outputs": [
    {
     "data": {
      "image/png": "[encoded data removed]",
      "text/plain": [
       "<matplotlib.figure.Figure at 0x10fa4f110>"
      ]
     },
     "metadata": {},
     "output_type": "display_data"
    }
   ],
   "source": [
    "##########\n",
    "# 4.e\n",
    "##########\n",
    "\n",
    "# Instructions:\n",
    "# Augment the scatterplot with density estimates.\n",
    "# Please note that you will be awarded points for \n",
    "# this section only if the graph has both the density\n",
    "# estimates and the scatterplot on the same graph. \n",
    "# Save this plot as scatterbonus.png.\n",
    "\n",
    "f.write(\"---4.e---\\n\")\n",
    "\n",
    "# Plot the density estimates with the scatter plot.\n",
    "sns.jointplot(x='age', y='rating', data=grouped_by_age, color='#968fad', kind='kde').plot_joint(plt.scatter)\n",
    "sns.plt.show()"
   ]
  },
  {
   "cell_type": "code",
   "execution_count": 156,
   "metadata": {
    "collapsed": true
   },
   "outputs": [],
   "source": [
    "f.close()"
   ]
  },
  {
   "cell_type": "code",
   "execution_count": null,
   "metadata": {
    "collapsed": true
   },
   "outputs": [],
   "source": []
  }
 ],
 "metadata": {
  "kernelspec": {
   "display_name": "Python 2",
   "language": "python",
   "name": "python2"
  },
  "language_info": {
   "codemirror_mode": {
    "name": "ipython",
    "version": 2
   },
   "file_extension": ".py",
   "mimetype": "text/x-python",
   "name": "python",
   "nbconvert_exporter": "python",
   "pygments_lexer": "ipython2",
   "version": "2.7.11"
  }
 },
 "nbformat": 4,
 "nbformat_minor": 0
}
